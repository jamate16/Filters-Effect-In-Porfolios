{
 "cells": [
  {
   "cell_type": "markdown",
   "metadata": {},
   "source": [
    "## Test of the processing pipeline that will take place for every metric\n",
    "> This file's purpose is to **test** the new approach we will be using to complete the project."
   ]
  },
  {
   "cell_type": "code",
   "execution_count": null,
   "metadata": {},
   "outputs": [],
   "source": [
    "\n",
    "\n",
    "\n",
    "# Add cwd/.. to path so the imports to user defined packages work\n",
    "import sys\n",
    "import os\n",
    "sys.path.append(os.path.join(os.getcwd(), '..'))\n",
    "from src.data_fetchers.metrics_fetcher import MetricsFetcher\n",
    "from src.data_fetchers.classification_fetcher import ClassificationFetcher\n",
    "from src.data_fetchers.returns_fetcher import ReturnsFetcher\n",
    "from src.configs.file_style_configs_by_metric import file_style_configs_by_metric\n"
   ]
  },
  {
   "cell_type": "markdown",
   "metadata": {},
   "source": [
    "## Generative question:\n",
    "- How does investment criteria affect the returns of a portfolio?\n",
    "\n",
    "### Hypothesis:\n",
    "- Some metrics or percentiles of them will yield portfolios with higher returns than the SP500 consistently over time.\n",
    "\n",
    "### Steps:\n",
    "1. [Load data for a single metric](#step-1)\n",
    "2. Limit span of data to 2000Q1 to 2023Q2\n",
    "3. Plot distribution of data. We need to make sure data was fetched correctly\n",
    "4. Clean data if needed (outliers, missing values, etc. Maybe calculate No. of missing values, etc.)\n",
    "5. Save cleaned data (.pickle)\n",
    "6. Select study and investment periods\n",
    "7. Calculate average of metric per company\n",
    "8. Calculate central tendency and dispersion measures for the averages\n",
    "9. Create portfolios of companies based percentiles on the average (or median) of metric\n",
    "10. Calculate returns of portfolios and SP500\n",
    "11. Compute the difference in returns between portfolios and SP500\n",
    "12. Test for statistical significance of the difference in returns\n",
    "13. Evaluate risk of portfolios (Maybe classify them based on sortino and sharpe ratios)\n",
    "14. Evaluate the sensitivity of methodology to changes in the study and investment periods"
   ]
  },
  {
   "cell_type": "markdown",
   "metadata": {},
   "source": [
    "### Step 1"
   ]
  },
  {
   "cell_type": "code",
   "execution_count": null,
   "metadata": {},
   "outputs": [],
   "source": []
  }
 ],
 "metadata": {
  "kernelspec": {
   "display_name": "Python 3",
   "language": "python",
   "name": "python3"
  },
  "language_info": {
   "codemirror_mode": {
    "name": "ipython",
    "version": 3
   },
   "file_extension": ".py",
   "mimetype": "text/x-python",
   "name": "python",
   "nbconvert_exporter": "python",
   "pygments_lexer": "ipython3",
   "version": "3.10.11"
  },
  "orig_nbformat": 4
 },
 "nbformat": 4,
 "nbformat_minor": 2
}

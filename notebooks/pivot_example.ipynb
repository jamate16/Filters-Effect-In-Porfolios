{
 "cells": [
  {
   "cell_type": "markdown",
   "metadata": {},
   "source": [
    "## Test of the processing pipeline that will take place for every metric\n",
    "> This file's purpose is to **test** the new approach we will be using to complete the project."
   ]
  },
  {
   "cell_type": "code",
   "execution_count": null,
   "metadata": {},
   "outputs": [],
   "source": [
    "\n",
    "\n",
    "\n",
    "# Add cwd/.. to path so the imports to user defined packages work\n",
    "import sys\n",
    "import os\n",
    "sys.path.append(os.path.join(os.getcwd(), '..'))\n",
    "from src.data_fetchers.metrics_fetcher import MetricsFetcher\n",
    "from src.data_fetchers.classification_fetcher import ClassificationFetcher\n",
    "from src.data_fetchers.returns_fetcher import ReturnsFetcher\n",
    "from src.configs.file_style_configs_by_metric import file_style_configs_by_metric\n"
   ]
  },
  {
   "cell_type": "markdown",
   "metadata": {},
   "source": [
    "## Generative question:\n",
    "- How does investment criteria affect the returns of a portfolio?\n",
    "\n",
    "### Hypothesis:\n",
    "- Some metrics or percentiles of them will yield portfolios with higher returns than the SP500 consistently over time.\n",
    "\n",
    "### Steps:\n",
    "1. [Load data for a single metric](#step-1)\n",
    "2. [Limit span of data to 2000Q1 to 2023Q2](#step-2)\n",
    "3. [Plot distribution of data. We need to make sure data was fetched correctly](#step-3)\n",
    "4. [Clean data if needed (outliers, missing values, etc. Maybe calculate No. of missing values, etc.)](#step-4)\n",
    "5. [Save cleaned data (.pickle)](#step-5)\n",
    "6. [Select study and investment periods](#step-6)\n",
    "7. [Calculate average of metric per company](#step-7)\n",
    "8. [Calculate central tendency and dispersion measures for the averages](#step-8)\n",
    "9. [Create portfolios of companies based percentiles on the average (or median) of metric](#step-9)\n",
    "10. [Calculate returns of portfolios and SP500](#step-10)\n",
    "11. [Compute the difference in returns between portfolios and SP500](#step-11)\n",
    "12. [Test for statistical significance of the difference in returns](#step-12)\n",
    "13. [Evaluate risk of portfolios (Maybe classify them based on sortino and sharpe ratios)](#step-13)\n",
    "14. [Evaluate the sensitivity of methodology to changes in the study and investment periods](#step-14)"
   ]
  },
  {
   "cell_type": "markdown",
   "metadata": {},
   "source": [
    "### Step 1\n",
    "[Steps backlink](#steps)"
   ]
  },
  {
   "cell_type": "code",
   "execution_count": null,
   "metadata": {},
   "outputs": [],
   "source": []
  },
  {
   "cell_type": "markdown",
   "metadata": {},
   "source": [
    "### Step 2\n",
    "[Steps backlink](#steps)"
   ]
  },
  {
   "cell_type": "markdown",
   "metadata": {},
   "source": [
    "### Step 3\n",
    "[Steps backlink](#steps)"
   ]
  },
  {
   "cell_type": "markdown",
   "metadata": {},
   "source": [
    "### Step 4\n",
    "[Steps backlink](#steps)"
   ]
  },
  {
   "cell_type": "markdown",
   "metadata": {},
   "source": [
    "### Step 5\n",
    "[Steps backlink](#steps)"
   ]
  },
  {
   "cell_type": "markdown",
   "metadata": {},
   "source": [
    "### Step 6\n",
    "[Steps backlink](#steps)"
   ]
  },
  {
   "cell_type": "markdown",
   "metadata": {},
   "source": [
    "### Step 7\n",
    "[Steps backlink](#steps)"
   ]
  },
  {
   "cell_type": "markdown",
   "metadata": {},
   "source": [
    "### Step 8\n",
    "[Steps backlink](#steps)"
   ]
  },
  {
   "cell_type": "markdown",
   "metadata": {},
   "source": [
    "### Step 9\n",
    "[Steps backlink](#steps)"
   ]
  },
  {
   "cell_type": "markdown",
   "metadata": {},
   "source": [
    "### Step 10\n",
    "[Steps backlink](#steps)"
   ]
  },
  {
   "cell_type": "markdown",
   "metadata": {},
   "source": [
    "### Step 11\n",
    "[Steps backlink](#steps)"
   ]
  },
  {
   "cell_type": "markdown",
   "metadata": {},
   "source": [
    "### Step 12\n",
    "[Steps backlink](#steps)"
   ]
  },
  {
   "cell_type": "markdown",
   "metadata": {},
   "source": [
    "### Step 13\n",
    "[Steps backlink](#steps)"
   ]
  },
  {
   "cell_type": "markdown",
   "metadata": {},
   "source": [
    "### Step 14\n",
    "[Steps backlink](#steps)"
   ]
  }
 ],
 "metadata": {
  "kernelspec": {
   "display_name": "Python 3",
   "language": "python",
   "name": "python3"
  },
  "language_info": {
   "codemirror_mode": {
    "name": "ipython",
    "version": 3
   },
   "file_extension": ".py",
   "mimetype": "text/x-python",
   "name": "python",
   "nbconvert_exporter": "python",
   "pygments_lexer": "ipython3",
   "version": "3.10.11"
  },
  "orig_nbformat": 4
 },
 "nbformat": 4,
 "nbformat_minor": 2
}

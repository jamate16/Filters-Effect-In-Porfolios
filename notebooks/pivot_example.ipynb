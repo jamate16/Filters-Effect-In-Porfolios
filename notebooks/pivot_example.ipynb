{
 "cells": [
  {
   "cell_type": "markdown",
   "metadata": {},
   "source": [
    "## Test of the processing pipeline that will take place for every metric\n",
    "> This file's purpose is to **test** the new approach we will be using to complete the project."
   ]
  },
  {
   "cell_type": "markdown",
   "metadata": {},
   "source": [
    "## Generative question:\n",
    "- How does investment criteria affect the returns of a portfolio?\n",
    "\n",
    "### Hypothesis:\n",
    "- Some metrics or percentiles of them will yield portfolios with higher returns than the SP500 consistently over time.\n",
    "\n",
    "### Steps:\n",
    "1. [Load data for a single metric](#step-1)\n",
    "2. [Limit span of data from 2000Q1 to 2023Q2](#step-2)\n",
    "3. [Plot distribution of data. We need to make sure data was fetched correctly](#step-3)\n",
    "4. [Clean data if needed (outliers, missing values, etc. Maybe calculate No. of missing values, etc.)](#step-4)\n",
    "5. [Save cleaned data (.pickle)](#step-5)\n",
    "6. [Select study and investment periods](#step-6)\n",
    "7. [Calculate average of metric per company](#step-7)\n",
    "8. [Calculate central tendency and dispersion measures for the averages](#step-8)\n",
    "9. [Create portfolios of companies based percentiles on the average (or median) of metric](#step-9)\n",
    "10. [Calculate returns of portfolios and SP500](#step-10)\n",
    "11. [Compute the difference in returns between portfolios and SP500](#step-11)\n",
    "12. [Test for statistical significance of the difference in returns](#step-12)\n",
    "13. [Evaluate risk of portfolios (Maybe classify them based on sortino and sharpe ratios)](#step-13)\n",
    "14. [Evaluate the sensitivity of methodology to changes in the study and investment periods](#step-14)"
   ]
  },
  {
   "cell_type": "code",
   "execution_count": 2,
   "metadata": {},
   "outputs": [],
   "source": [
    "import pandas as pd\n",
    "\n",
    "\n",
    "# Add cwd/.. to path so the imports to my user defined packages work\n",
    "import sys\n",
    "import os\n",
    "sys.path.append(os.path.join(os.getcwd(), '..'))\n",
    "from src.data_fetchers.metrics_fetcher import MetricsFetcher\n",
    "from src.data_fetchers.classification_fetcher import ClassificationFetcher\n",
    "from src.data_fetchers.returns_fetcher import ReturnsFetcher\n",
    "from src.configs.file_style_configs_by_metric import file_style_configs_by_metric\n"
   ]
  },
  {
   "cell_type": "markdown",
   "metadata": {},
   "source": [
    "### Step 1\n",
    "[Steps backlink](#steps)"
   ]
  },
  {
   "cell_type": "code",
   "execution_count": 5,
   "metadata": {},
   "outputs": [
    {
     "name": "stderr",
     "output_type": "stream",
     "text": [
      "Processing AAPL:   0%|          | 1/269 [00:01<05:20,  1.20s/it]"
     ]
    },
    {
     "name": "stdout",
     "output_type": "stream",
     "text": [
      "Successfully extracted data for 1. \n"
     ]
    },
    {
     "name": "stderr",
     "output_type": "stream",
     "text": [
      "\n"
     ]
    },
    {
     "ename": "AttributeError",
     "evalue": "'Index' object has no attribute 'to_period'",
     "output_type": "error",
     "traceback": [
      "\u001b[1;31m---------------------------------------------------------------------------\u001b[0m",
      "\u001b[1;31mAttributeError\u001b[0m                            Traceback (most recent call last)",
      "\u001b[1;32mc:\\Users\\mateo\\Desktop\\santisThesis\\pivot29s\\notebooks\\pivot_example.ipynb Cell 5\u001b[0m line \u001b[0;36m7\n\u001b[0;32m      <a href='vscode-notebook-cell:/c%3A/Users/mateo/Desktop/santisThesis/pivot29s/notebooks/pivot_example.ipynb#W4sZmlsZQ%3D%3D?line=3'>4</a>\u001b[0m name_of_metric \u001b[39m=\u001b[39m \u001b[39m\"\u001b[39m\u001b[39mPretax ROA\u001b[39m\u001b[39m\"\u001b[39m\n\u001b[0;32m      <a href='vscode-notebook-cell:/c%3A/Users/mateo/Desktop/santisThesis/pivot29s/notebooks/pivot_example.ipynb#W4sZmlsZQ%3D%3D?line=4'>5</a>\u001b[0m ROA_df \u001b[39m=\u001b[39m fetcher\u001b[39m.\u001b[39mfetch(name_of_metric, os\u001b[39m.\u001b[39mpath\u001b[39m.\u001b[39mjoin(\u001b[39m\"\u001b[39m\u001b[39m..\u001b[39m\u001b[39m\"\u001b[39m, \u001b[39m\"\u001b[39m\u001b[39mdata\u001b[39m\u001b[39m\"\u001b[39m, \u001b[39m\"\u001b[39m\u001b[39mpickled_data\u001b[39m\u001b[39m\"\u001b[39m))\n\u001b[1;32m----> <a href='vscode-notebook-cell:/c%3A/Users/mateo/Desktop/santisThesis/pivot29s/notebooks/pivot_example.ipynb#W4sZmlsZQ%3D%3D?line=6'>7</a>\u001b[0m ROA_df\u001b[39m.\u001b[39mindex \u001b[39m=\u001b[39m ROA_df\u001b[39m.\u001b[39;49mindex\u001b[39m.\u001b[39;49mto_period(\u001b[39m\"\u001b[39m\u001b[39mQ\u001b[39m\u001b[39m\"\u001b[39m)\n",
      "\u001b[1;31mAttributeError\u001b[0m: 'Index' object has no attribute 'to_period'"
     ]
    }
   ],
   "source": [
    "data_path = os.path.join(\"..\", \"data\", \"companies_data\")\n",
    "fetcher = MetricsFetcher(data_path, file_style_configs_by_metric)\n",
    "\n",
    "name_of_metric = \"Pretax ROA\"\n",
    "ROA_df = fetcher.fetch(name_of_metric, os.path.join(\"..\", \"data\", \"pickled_data\"))\n",
    "\n",
    "ROA_df.index = pd.to_datetime(ROA_df.index)\n",
    "ROA_df.index = ROA_df.index.to_period(\"Q\")"
   ]
  },
  {
   "cell_type": "markdown",
   "metadata": {},
   "source": []
  },
  {
   "cell_type": "markdown",
   "metadata": {},
   "source": [
    "### Step 2\n",
    "[Steps backlink](#steps)"
   ]
  },
  {
   "cell_type": "markdown",
   "metadata": {},
   "source": [
    "### Step 3\n",
    "[Steps backlink](#steps)"
   ]
  },
  {
   "cell_type": "markdown",
   "metadata": {},
   "source": [
    "### Step 4\n",
    "[Steps backlink](#steps)"
   ]
  },
  {
   "cell_type": "markdown",
   "metadata": {},
   "source": [
    "### Step 5\n",
    "[Steps backlink](#steps)"
   ]
  },
  {
   "cell_type": "markdown",
   "metadata": {},
   "source": [
    "### Step 6\n",
    "[Steps backlink](#steps)"
   ]
  },
  {
   "cell_type": "markdown",
   "metadata": {},
   "source": [
    "### Step 7\n",
    "[Steps backlink](#steps)"
   ]
  },
  {
   "cell_type": "markdown",
   "metadata": {},
   "source": [
    "### Step 8\n",
    "[Steps backlink](#steps)"
   ]
  },
  {
   "cell_type": "markdown",
   "metadata": {},
   "source": [
    "### Step 9\n",
    "[Steps backlink](#steps)"
   ]
  },
  {
   "cell_type": "markdown",
   "metadata": {},
   "source": [
    "### Step 10\n",
    "[Steps backlink](#steps)"
   ]
  },
  {
   "cell_type": "markdown",
   "metadata": {},
   "source": [
    "### Step 11\n",
    "[Steps backlink](#steps)"
   ]
  },
  {
   "cell_type": "markdown",
   "metadata": {},
   "source": [
    "### Step 12\n",
    "[Steps backlink](#steps)"
   ]
  },
  {
   "cell_type": "markdown",
   "metadata": {},
   "source": [
    "### Step 13\n",
    "[Steps backlink](#steps)"
   ]
  },
  {
   "cell_type": "markdown",
   "metadata": {},
   "source": [
    "### Step 14\n",
    "[Steps backlink](#steps)"
   ]
  }
 ],
 "metadata": {
  "kernelspec": {
   "display_name": "Python 3",
   "language": "python",
   "name": "python3"
  },
  "language_info": {
   "codemirror_mode": {
    "name": "ipython",
    "version": 3
   },
   "file_extension": ".py",
   "mimetype": "text/x-python",
   "name": "python",
   "nbconvert_exporter": "python",
   "pygments_lexer": "ipython3",
   "version": "3.12.0"
  },
  "orig_nbformat": 4
 },
 "nbformat": 4,
 "nbformat_minor": 2
}

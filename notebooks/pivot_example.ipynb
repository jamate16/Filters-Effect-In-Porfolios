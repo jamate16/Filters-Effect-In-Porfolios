{
 "cells": [
  {
   "cell_type": "markdown",
   "metadata": {},
   "source": [
    "## Test of the processing pipeline that will take place for every metric\n",
    "> This file's purpose is to **test** the new approach we will be using to complete the project."
   ]
  },
  {
   "cell_type": "markdown",
   "metadata": {},
   "source": [
    "## Generative question:\n",
    "- How does investment criteria affect the returns of a portfolio?\n",
    "\n",
    "### Hypothesis:\n",
    "- Some metrics or percentiles of them will yield portfolios with higher returns than the SP500 consistently over time.\n",
    "\n",
    "### Steps:\n",
    "1. [Load data for a single metric](#step-1)\n",
    "2. [Limit span of data from 2000Q1 to 2023Q2](#step-2)\n",
    "3. [Plot distribution of data. We need to make sure data was fetched correctly](#step-3)\n",
    "4. [Clean data if needed (outliers, missing values, etc. Maybe calculate No. of missing values, etc.)](#step-4)\n",
    "5. [Save cleaned data (.pickle)](#step-5)\n",
    "6. [Select study and investment periods](#step-6)\n",
    "7. [Calculate average of metric per company](#step-7)\n",
    "8. [Calculate central tendency and dispersion measures for the averages](#step-8)\n",
    "9. [Create portfolios of companies based percentiles on the average (or median) of metric](#step-9)\n",
    "10. [Calculate returns of portfolios and SP500](#step-10)\n",
    "11. [Compute the difference in returns between portfolios and SP500](#step-11)\n",
    "12. [Test for statistical significance of the difference in returns](#step-12)\n",
    "13. [Evaluate risk of portfolios (Maybe classify them based on sortino and sharpe ratios)](#step-13)\n",
    "14. [Evaluate the sensitivity of methodology to changes in the study and investment periods](#step-14)"
   ]
  },
  {
   "cell_type": "code",
   "execution_count": 74,
   "metadata": {},
   "outputs": [],
   "source": [
    "import pandas as pd\n",
    "import numpy as np\n",
    "\n",
    "import matplotlib.pyplot as plt\n",
    "\n",
    "# Add cwd/.. to path so the imports to my user defined packages work\n",
    "import sys\n",
    "import os\n",
    "sys.path.append(os.path.join(os.getcwd(), '..'))\n",
    "from src.data_fetchers.metrics_fetcher import MetricsFetcher\n",
    "from src.data_fetchers.classification_fetcher import ClassificationFetcher\n",
    "from src.data_fetchers.returns_fetcher import ReturnsFetcher\n",
    "from src.configs.file_style_configs_by_metric import file_style_configs_by_metric\n"
   ]
  },
  {
   "cell_type": "markdown",
   "metadata": {},
   "source": [
    "### Step 1\n",
    "[Steps backlink](#steps)"
   ]
  },
  {
   "cell_type": "code",
   "execution_count": 75,
   "metadata": {},
   "outputs": [
    {
     "name": "stdout",
     "output_type": "stream",
     "text": [
      "<class 'pandas.core.frame.DataFrame'>\n",
      "PeriodIndex: 141 entries, 1989Q2 to 2024Q2\n",
      "Freq: Q-DEC\n",
      "Columns: 251 entries, AAPL to ZION\n",
      "dtypes: float64(215), object(36)\n",
      "memory usage: 277.6+ KB\n"
     ]
    }
   ],
   "source": [
    "data_path = os.path.join(\"..\", \"data\", \"companies_data\")\n",
    "fetcher = MetricsFetcher(data_path, file_style_configs_by_metric)\n",
    "\n",
    "name_of_metric = \"Pretax ROE\"\n",
    "ROA_df = fetcher.fetch(name_of_metric, os.path.join(\"..\", \"data\", \"pickled_data\"))\n",
    "\n",
    "def change_df_index_to_period(df: pd.DataFrame):\n",
    "    df.index = pd.to_datetime(df.index)\n",
    "    df.index = df.index.to_period(\"Q\")\n",
    "\n",
    "change_df_index_to_period(ROA_df)\n",
    "\n",
    "ROA_df.info()"
   ]
  },
  {
   "cell_type": "markdown",
   "metadata": {},
   "source": [
    "We have data from 2023Q2-2024Q4, we think these are forecasted values. They only appear for a small subset of companies."
   ]
  },
  {
   "cell_type": "markdown",
   "metadata": {},
   "source": [
    "### Step 2\n",
    "[Steps backlink](#steps)"
   ]
  },
  {
   "cell_type": "code",
   "execution_count": 76,
   "metadata": {},
   "outputs": [
    {
     "name": "stdout",
     "output_type": "stream",
     "text": [
      "2000Q1 2023Q2\n"
     ]
    }
   ],
   "source": [
    "def select_range_of_data(df: pd.DataFrame, period_start: pd.Period, period_end: pd.Period) -> pd.DataFrame:\n",
    "    return df[period_start:period_end]\n",
    "\n",
    "ROA_df = select_range_of_data(ROA_df, pd.Period(\"2000Q1\"), pd.Period(\"2023Q2\"))\n",
    "print(min(ROA_df.index), max(ROA_df.index))"
   ]
  },
  {
   "cell_type": "markdown",
   "metadata": {},
   "source": [
    "### Step 3\n",
    "[Steps backlink](#steps)"
   ]
  },
  {
   "cell_type": "markdown",
   "metadata": {},
   "source": [
    "Before plotting the distribution of the data and checking for outliers, we need to make sure we are working with complete data.\n",
    "So, will explore it there are missing values"
   ]
  },
  {
   "cell_type": "code",
   "execution_count": 77,
   "metadata": {},
   "outputs": [
    {
     "name": "stdout",
     "output_type": "stream",
     "text": [
      "Number of NaNs:  95\n",
      "Number of hypens:  422\n",
      "Number of non floats:  429\n",
      "Number of hypens after replacing with NaNs:  0\n"
     ]
    }
   ],
   "source": [
    "print(\"Number of NaNs: \", ROA_df.isna().sum().sum())\n",
    "\n",
    "hyphen_count = (ROA_df.map(lambda x: isinstance(x, str) and '-' in x)).sum().sum()\n",
    "print(\"Number of hypens: \", hyphen_count)\n",
    "\n",
    "non_float_count = (ROA_df.map(lambda x: not isinstance(x, (float, np.floating)))).sum().sum()\n",
    "print(\"Number of non floats: \", not_float_count)\n",
    "\n",
    "# Let's change hyphens for NaNs\n",
    "ROA_df = ROA_df.replace('-', np.nan)\n",
    "\n",
    "hyphen_count = (ROA_df.map(lambda x: isinstance(x, str) and '-' in x)).sum().sum()\n",
    "print(\"Number of hypens after replacing with NaNs: \", hyphen_count)\n",
    "\n",
    "# TODO: Figure out what to do with missing values in the time series.\n",
    "# I find this tricky as some companies are missing their values for long periods of time. For 1 or 2 missing values it's piece of cake."
   ]
  },
  {
   "cell_type": "code",
   "execution_count": 80,
   "metadata": {},
   "outputs": [
    {
     "data": {
      "image/png": "[encoded data removed]",
      "text/plain": [
       "<Figure size 640x480 with 1 Axes>"
      ]
     },
     "metadata": {},
     "output_type": "display_data"
    }
   ],
   "source": [
    "df_stack = ROA_df.stack() # \"Flatten\" the DataFrame\n",
    "\n",
    "df_stack_no_outliers = df_stack[df_stack.between(df_stack.quantile(0.05), df_stack.quantile(0.95))]\n",
    "plt.hist(df_stack_no_outliers)\n",
    "plt.show()"
   ]
  },
  {
   "cell_type": "code",
   "execution_count": 79,
   "metadata": {},
   "outputs": [
    {
     "ename": "SyntaxError",
     "evalue": "unmatched ')' (687023194.py, line 1)",
     "output_type": "error",
     "traceback": [
      "\u001b[1;36m  Cell \u001b[1;32mIn[79], line 1\u001b[1;36m\u001b[0m\n\u001b[1;33m    )\u001b[0m\n\u001b[1;37m    ^\u001b[0m\n\u001b[1;31mSyntaxError\u001b[0m\u001b[1;31m:\u001b[0m unmatched ')'\n"
     ]
    }
   ],
   "source": [
    ")"
   ]
  },
  {
   "cell_type": "markdown",
   "metadata": {},
   "source": [
    "### Step 4\n",
    "[Steps backlink](#steps)"
   ]
  },
  {
   "cell_type": "markdown",
   "metadata": {},
   "source": [
    "### Step 5\n",
    "[Steps backlink](#steps)"
   ]
  },
  {
   "cell_type": "markdown",
   "metadata": {},
   "source": [
    "### Step 6\n",
    "[Steps backlink](#steps)"
   ]
  },
  {
   "cell_type": "markdown",
   "metadata": {},
   "source": [
    "### Step 7\n",
    "[Steps backlink](#steps)"
   ]
  },
  {
   "cell_type": "markdown",
   "metadata": {},
   "source": [
    "### Step 8\n",
    "[Steps backlink](#steps)"
   ]
  },
  {
   "cell_type": "markdown",
   "metadata": {},
   "source": [
    "### Step 9\n",
    "[Steps backlink](#steps)"
   ]
  },
  {
   "cell_type": "markdown",
   "metadata": {},
   "source": [
    "### Step 10\n",
    "[Steps backlink](#steps)"
   ]
  },
  {
   "cell_type": "markdown",
   "metadata": {},
   "source": [
    "### Step 11\n",
    "[Steps backlink](#steps)"
   ]
  },
  {
   "cell_type": "markdown",
   "metadata": {},
   "source": [
    "### Step 12\n",
    "[Steps backlink](#steps)"
   ]
  },
  {
   "cell_type": "markdown",
   "metadata": {},
   "source": [
    "### Step 13\n",
    "[Steps backlink](#steps)"
   ]
  },
  {
   "cell_type": "markdown",
   "metadata": {},
   "source": [
    "### Step 14\n",
    "[Steps backlink](#steps)"
   ]
  }
 ],
 "metadata": {
  "kernelspec": {
   "display_name": "Python 3",
   "language": "python",
   "name": "python3"
  },
  "language_info": {
   "codemirror_mode": {
    "name": "ipython",
    "version": 3
   },
   "file_extension": ".py",
   "mimetype": "text/x-python",
   "name": "python",
   "nbconvert_exporter": "python",
   "pygments_lexer": "ipython3",
   "version": "3.12.0"
  },
  "orig_nbformat": 4
 },
 "nbformat": 4,
 "nbformat_minor": 2
}
